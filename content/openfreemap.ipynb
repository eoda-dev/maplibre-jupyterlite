{
  "metadata": {
    "kernelspec": {
      "name": "python",
      "display_name": "Python (Pyodide)",
      "language": "python"
    },
    "language_info": {
      "codemirror_mode": {
        "name": "python",
        "version": 3
      },
      "file_extension": ".py",
      "mimetype": "text/x-python",
      "name": "python",
      "nbconvert_exporter": "python",
      "pygments_lexer": "ipython3",
      "version": "3.8"
    }
  },
  "nbformat_minor": 5,
  "nbformat": 4,
  "cells": [
    {
      "id": "6f6bb208-c4df-488f-9cc3-3dc649d83f5d",
      "cell_type": "code",
      "source": "%pip install maplibre[anywidget]",
      "metadata": {
        "trusted": true
      },
      "outputs": [],
      "execution_count": 1
    },
    {
      "id": "5249d63f-a841-43f6-a304-e074425c9846",
      "cell_type": "code",
      "source": "from maplibre import Layer, LayerType, MapOptions\nfrom maplibre.ipywidget import MapWidget as Map\nfrom maplibre.basemaps import OpenFreeMap\nfrom maplibre.controls import NavigationControl, ControlPosition",
      "metadata": {
        "trusted": true
      },
      "outputs": [],
      "execution_count": 7
    },
    {
      "id": "0782a41a-0a68-41d9-9780-d7fcea47668d",
      "cell_type": "code",
      "source": "map_options = MapOptions(style=OpenFreeMap.LIBERTY)",
      "metadata": {
        "trusted": true
      },
      "outputs": [],
      "execution_count": 5
    },
    {
      "id": "397c5b59-29de-4f57-9148-926fd476fa9d",
      "cell_type": "code",
      "source": "map_options.to_dict()",
      "metadata": {
        "trusted": true
      },
      "outputs": [
        {
          "execution_count": 6,
          "output_type": "execute_result",
          "data": {
            "text/plain": "{'style': 'https://tiles.openfreemap.org/styles/liberty'}"
          },
          "metadata": {}
        }
      ],
      "execution_count": 6
    },
    {
      "id": "e4e3962d-d610-4fd5-a054-61fdd8502254",
      "cell_type": "code",
      "source": "m = Map(map_options, controls=[NavigationControl(position=ControlPosition.TOP_LEFT)])",
      "metadata": {
        "trusted": true
      },
      "outputs": [],
      "execution_count": 10
    },
    {
      "id": "adceca2b-c6c6-416f-beca-d57db17c5a45",
      "cell_type": "code",
      "source": "m",
      "metadata": {
        "trusted": true
      },
      "outputs": [
        {
          "execution_count": 11,
          "output_type": "execute_result",
          "data": {
            "text/plain": "MapWidget(height='400px', map_options={'style': 'https://tiles.openfreemap.org/styles/liberty'})",
            "application/vnd.jupyter.widget-view+json": {
              "version_major": 2,
              "version_minor": 1,
              "model_id": "46f1f7622a3243baadbc0926ba8b01c1"
            }
          },
          "metadata": {}
        }
      ],
      "execution_count": 11
    },
    {
      "id": "b5358f78-e0a7-4153-a6a4-46c55982fe55",
      "cell_type": "code",
      "source": "",
      "metadata": {
        "trusted": true
      },
      "outputs": [],
      "execution_count": null
    }
  ]
}