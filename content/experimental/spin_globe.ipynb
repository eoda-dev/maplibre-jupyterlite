{
  "metadata": {
    "kernelspec": {
      "name": "python",
      "display_name": "Python (Pyodide)",
      "language": "python"
    },
    "language_info": {
      "codemirror_mode": {
        "name": "python",
        "version": 3
      },
      "file_extension": ".py",
      "mimetype": "text/x-python",
      "name": "python",
      "nbconvert_exporter": "python",
      "pygments_lexer": "ipython3",
      "version": "3.8"
    }
  },
  "nbformat_minor": 5,
  "nbformat": 4,
  "cells": [
    {
      "id": "b6ad9370-c903-453e-af6a-f6b59c8a68d9",
      "cell_type": "code",
      "source": "%pip install maplibre[anywidget]",
      "metadata": {
        "trusted": true
      },
      "outputs": [],
      "execution_count": 1
    },
    {
      "id": "f1818849-de86-4b06-8cee-841d2c0a5ec1",
      "cell_type": "code",
      "source": "import time\nfrom maplibre.ipywidget import MapWidget, MapOptions\nfrom maplibre.controls import NavigationControl\nfrom maplibre.basemaps import OpenFreeMap",
      "metadata": {
        "trusted": true
      },
      "outputs": [],
      "execution_count": 14
    },
    {
      "id": "73fd28d3-b88d-444b-b830-0a790bfb4685",
      "cell_type": "code",
      "source": "map_options = MapOptions(style=OpenFreeMap.LIBERTY, center=(-90, 40), zoom=3)",
      "metadata": {
        "trusted": true
      },
      "outputs": [],
      "execution_count": 24
    },
    {
      "id": "96a9d79d-aa7e-4c98-8b46-af688cf65a0f",
      "cell_type": "code",
      "source": "seconds_per_revolution = 120\nmax_spin_zoom = 5\nslow_spin_zoom = 3\nspin_enabled = True",
      "metadata": {
        "trusted": true
      },
      "outputs": [],
      "execution_count": 16
    },
    {
      "id": "dfdc1ad8-c690-4a30-a015-24286254d197",
      "cell_type": "code",
      "source": "def spin_globe():\n    zoom = m.view_state[\"zoom\"]\n    if spin_enabled and zoom < max_spin_zoom:\n            distance_per_second = 360 / seconds_per_revolution\n            if zoom > slow_spin_zoom:\n                zoom_dif = (max_spin_zoom - zoom) / (max_spin_zoom - slow_spin_zoom)\n                distance_per_second *= zoom_Dif\n\n            center = m.view_state[\"center\"]\n            center[\"lng\"] -= distance_per_second\n            m.add_call(\"easeTo\", dict(center=center, duration=1000))",
      "metadata": {
        "trusted": true
      },
      "outputs": [],
      "execution_count": 17
    },
    {
      "id": "9c9524e7-2534-4502-b792-5e2ad56d5b2f",
      "cell_type": "code",
      "source": "m = MapWidget(map_options, controls=[NavigationControl()])",
      "metadata": {
        "trusted": true
      },
      "outputs": [],
      "execution_count": 26
    },
    {
      "id": "6661fd21-a1ea-4168-a250-be77950b4eb3",
      "cell_type": "code",
      "source": "m.set_projection(\"globe\")",
      "metadata": {
        "trusted": true
      },
      "outputs": [],
      "execution_count": 27
    },
    {
      "id": "5b4b46d3-f753-4221-90d0-b1cd123237f6",
      "cell_type": "code",
      "source": "m",
      "metadata": {
        "trusted": true
      },
      "outputs": [
        {
          "execution_count": 28,
          "output_type": "execute_result",
          "data": {
            "text/plain": "MapWidget(height='400px', map_options={'center': (-90, 40), 'style': 'https://tiles.openfreemap.org/styles/lib…",
            "application/vnd.jupyter.widget-view+json": {
              "version_major": 2,
              "version_minor": 1,
              "model_id": "143953fa3f614af39a51cb4da0e5b6bd"
            }
          },
          "metadata": {}
        }
      ],
      "execution_count": 28
    },
    {
      "id": "885f27f9-798a-4756-9d6a-09b3cfc16e85",
      "cell_type": "code",
      "source": "spin_globe()",
      "metadata": {
        "trusted": true
      },
      "outputs": [],
      "execution_count": 44
    },
    {
      "id": "2265dc20-43aa-451f-99a4-025f5b6315c2",
      "cell_type": "code",
      "source": "for i in range(0, 20):\n    if m.view_state[\"zoom\"] < max_spin_zoom:\n        spin_globe()\n        time.sleep(0.5)",
      "metadata": {
        "trusted": true
      },
      "outputs": [],
      "execution_count": 70
    },
    {
      "id": "5222a73b-159a-49c7-9464-1580b34666cb",
      "cell_type": "code",
      "source": "m.view_state",
      "metadata": {
        "trusted": true
      },
      "outputs": [
        {
          "execution_count": 13,
          "output_type": "execute_result",
          "data": {
            "text/plain": "{'center': {'lng': 177, 'lat': 36.59789118229524},\n 'zoom': 0,\n 'bounds': {'_sw': {'lng': -180, 'lat': -49.73176758183526},\n  '_ne': {'lng': 180, 'lat': 90}},\n 'bearing': 0,\n 'pitch': 0}"
          },
          "metadata": {}
        }
      ],
      "execution_count": 13
    }
  ]
}