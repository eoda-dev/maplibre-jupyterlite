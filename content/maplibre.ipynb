{
  "metadata": {
    "kernelspec": {
      "name": "python",
      "display_name": "Python (Pyodide)",
      "language": "python"
    },
    "language_info": {
      "codemirror_mode": {
        "name": "python",
        "version": 3
      },
      "file_extension": ".py",
      "mimetype": "text/x-python",
      "name": "python",
      "nbconvert_exporter": "python",
      "pygments_lexer": "ipython3",
      "version": "3.8"
    }
  },
  "nbformat_minor": 5,
  "nbformat": 4,
  "cells": [
    {
      "id": "ddc493d7-f613-4379-8891-e90769aa62c2",
      "cell_type": "code",
      "source": "%pip install maplibre[anywidget]",
      "metadata": {
        "trusted": true
      },
      "outputs": [],
      "execution_count": 20
    },
    {
      "id": "c475b427-008b-4963-876d-978aca14ceef",
      "cell_type": "code",
      "source": "from maplibre.ipywidget import MapWidget as Map\nfrom maplibre.controls import NavigationControl, GlobeControl",
      "metadata": {
        "trusted": true
      },
      "outputs": [],
      "execution_count": 16
    },
    {
      "id": "9d5ef1ee-d1f1-4fe6-b4cf-e68ef8f71e85",
      "cell_type": "code",
      "source": "m = Map(controls=[NavigationControl(), GlobeControl()])",
      "metadata": {
        "trusted": true
      },
      "outputs": [],
      "execution_count": 22
    },
    {
      "id": "5969f796-72f8-47a5-9b9a-dacbc04272fe",
      "cell_type": "code",
      "source": "m",
      "metadata": {
        "trusted": true
      },
      "outputs": [
        {
          "execution_count": 23,
          "output_type": "execute_result",
          "data": {
            "text/plain": "MapWidget(height='400px', map_options={'style': 'https://basemaps.cartocdn.com/gl/dark-matter-gl-style/style.j…",
            "application/vnd.jupyter.widget-view+json": {
              "version_major": 2,
              "version_minor": 1,
              "model_id": "5ba2b5ce300840fdba1c80cdd08872a7"
            }
          },
          "metadata": {}
        }
      ],
      "execution_count": 23
    },
    {
      "id": "ca5c5f89-b6d0-4351-912c-6d4cd57c92f9",
      "cell_type": "code",
      "source": "",
      "metadata": {
        "trusted": true
      },
      "outputs": [],
      "execution_count": null
    }
  ]
}